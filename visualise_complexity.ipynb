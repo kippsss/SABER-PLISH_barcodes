{
 "cells": [
  {
   "cell_type": "code",
   "execution_count": 1,
   "id": "5bac9892-c8b8-416b-b6fe-e456d26a26c4",
   "metadata": {
    "tags": []
   },
   "outputs": [],
   "source": [
    "import pandas as pd\n",
    "import matplotlib.pyplot as plt\n",
    "import seaborn as sns"
   ]
  },
  {
   "cell_type": "code",
   "execution_count": 2,
   "id": "c2ea7c86-1300-4017-b1d6-a89747ec9fb1",
   "metadata": {
    "tags": []
   },
   "outputs": [],
   "source": [
    "nb_df = pd.read_csv(\"data/42mer_k14/42mer_k14_nb_final_complexity.tsv\", sep=\"\\t\")\n",
    "probe_df = pd.read_csv(\"data/42mer_k14/42mer_k14_probe_final_complexity.tsv\", sep=\"\\t\")\n",
    "implied_df = pd.read_csv(\"data/42mer_k14/42mer_k14_implied_final_complexity.tsv\", sep=\"\\t\")"
   ]
  },
  {
   "cell_type": "code",
   "execution_count": 3,
   "id": "bf5aa5a9-14fe-438f-b4fd-81a639934562",
   "metadata": {
    "tags": []
   },
   "outputs": [],
   "source": [
    "barcode_type_ls = []\n",
    "for i in range(len(nb_df)):\n",
    "    barcode_type_ls.append(\"NANOBODY\")\n",
    "nb_df = nb_df.assign(BARCODE_TYPE=barcode_type_ls)"
   ]
  },
  {
   "cell_type": "code",
   "execution_count": 4,
   "id": "1fb3a1b2-d416-436b-a698-c02d12c50fea",
   "metadata": {
    "tags": []
   },
   "outputs": [],
   "source": [
    "barcode_type_ls = []\n",
    "for i in range(len(probe_df)):\n",
    "    barcode_type_ls.append(\"ISH_PROBE\")\n",
    "probe_df = probe_df.assign(BARCODE_TYPE=barcode_type_ls)"
   ]
  },
  {
   "cell_type": "code",
   "execution_count": 5,
   "id": "36cff1ae-cca6-4af1-9cbe-5cfe60d511e6",
   "metadata": {
    "tags": []
   },
   "outputs": [],
   "source": [
    "barcode_type_ls = []\n",
    "for i in range(len(implied_df)):\n",
    "    barcode_type_ls.append(\"IMPLIED\")\n",
    "implied_df = implied_df.assign(BARCODE_TYPE=barcode_type_ls)"
   ]
  },
  {
   "cell_type": "code",
   "execution_count": 6,
   "id": "933e7a3d-a8e5-48ab-bdf8-e68c38fb4aab",
   "metadata": {
    "tags": []
   },
   "outputs": [],
   "source": [
    "all_df = pd.concat([nb_df, probe_df, implied_df], ignore_index=True)"
   ]
  },
  {
   "cell_type": "code",
   "execution_count": 7,
   "id": "617db3f2-f958-44c5-b640-702dd6f0a2b5",
   "metadata": {
    "tags": []
   },
   "outputs": [
    {
     "data": {
      "text/html": [
       "<div>\n",
       "<style scoped>\n",
       "    .dataframe tbody tr th:only-of-type {\n",
       "        vertical-align: middle;\n",
       "    }\n",
       "\n",
       "    .dataframe tbody tr th {\n",
       "        vertical-align: top;\n",
       "    }\n",
       "\n",
       "    .dataframe thead th {\n",
       "        text-align: right;\n",
       "    }\n",
       "</style>\n",
       "<table border=\"1\" class=\"dataframe\">\n",
       "  <thead>\n",
       "    <tr style=\"text-align: right;\">\n",
       "      <th></th>\n",
       "      <th>BARCODE_ID</th>\n",
       "      <th>BARCODE_SEQ</th>\n",
       "      <th>COMPLEXITY</th>\n",
       "      <th>BARCODE_TYPE</th>\n",
       "    </tr>\n",
       "  </thead>\n",
       "  <tbody>\n",
       "    <tr>\n",
       "      <th>0</th>\n",
       "      <td>nb-seq1869996</td>\n",
       "      <td>GCTCCGAGTACAATGCTCCGAGTAGTATGCTCCGAGTAGCAT</td>\n",
       "      <td>0.025029</td>\n",
       "      <td>NANOBODY</td>\n",
       "    </tr>\n",
       "    <tr>\n",
       "      <th>1</th>\n",
       "      <td>nb-seq1346423</td>\n",
       "      <td>TCTAGGACAATCGCTCTAGGAGTATCGCTCTAGGAGCATCGC</td>\n",
       "      <td>0.047809</td>\n",
       "      <td>NANOBODY</td>\n",
       "    </tr>\n",
       "    <tr>\n",
       "      <th>2</th>\n",
       "      <td>nb-seq519434</td>\n",
       "      <td>TACGGCACCGATTGTACGGCACCAATTGTACGGCACGTATTG</td>\n",
       "      <td>0.044414</td>\n",
       "      <td>NANOBODY</td>\n",
       "    </tr>\n",
       "    <tr>\n",
       "      <th>3</th>\n",
       "      <td>nb-seq5523087</td>\n",
       "      <td>ACCAACAGGTTTGCACGTACAGGTTTGCACGCACAGGTTTGC</td>\n",
       "      <td>0.021453</td>\n",
       "      <td>NANOBODY</td>\n",
       "    </tr>\n",
       "    <tr>\n",
       "      <th>4</th>\n",
       "      <td>nb-seq657033</td>\n",
       "      <td>GCGATTGACGCCTAGCAATTGACGCCTAGGTATTGACGCCTA</td>\n",
       "      <td>0.033229</td>\n",
       "      <td>NANOBODY</td>\n",
       "    </tr>\n",
       "    <tr>\n",
       "      <th>...</th>\n",
       "      <td>...</td>\n",
       "      <td>...</td>\n",
       "      <td>...</td>\n",
       "      <td>...</td>\n",
       "    </tr>\n",
       "    <tr>\n",
       "      <th>1577515</th>\n",
       "      <td>nb-seq1206525_probe-seq3842819</td>\n",
       "      <td>CCTGAGTCGGACTACCTGAGTGCTACGGATGCCATGCTACGG</td>\n",
       "      <td>0.218838</td>\n",
       "      <td>IMPLIED</td>\n",
       "    </tr>\n",
       "    <tr>\n",
       "      <th>1577516</th>\n",
       "      <td>nb-seq1206525_probe-seq2453994</td>\n",
       "      <td>ATATTAGCGCGTCAATATCAGGCTACGGATGCCATGCTACGG</td>\n",
       "      <td>0.519641</td>\n",
       "      <td>IMPLIED</td>\n",
       "    </tr>\n",
       "    <tr>\n",
       "      <th>1577517</th>\n",
       "      <td>nb-seq1206525_probe-seq1726065</td>\n",
       "      <td>CTCTGAGGACATTGCTCTGAGGCTACGGATGCCATGCTACGG</td>\n",
       "      <td>0.226944</td>\n",
       "      <td>IMPLIED</td>\n",
       "    </tr>\n",
       "    <tr>\n",
       "      <th>1577518</th>\n",
       "      <td>nb-seq1206525_probe-seq569455</td>\n",
       "      <td>TCGCAATCGGTAGCTCGCAATGCTACGGATGCCATGCTACGG</td>\n",
       "      <td>0.208237</td>\n",
       "      <td>IMPLIED</td>\n",
       "    </tr>\n",
       "    <tr>\n",
       "      <th>1577519</th>\n",
       "      <td>nb-seq1206525_probe-seq3988123</td>\n",
       "      <td>AGTTGTCAGAGCTCAGTTATCGCTACGGATGCCATGCTACGG</td>\n",
       "      <td>0.456111</td>\n",
       "      <td>IMPLIED</td>\n",
       "    </tr>\n",
       "  </tbody>\n",
       "</table>\n",
       "<p>1577520 rows × 4 columns</p>\n",
       "</div>"
      ],
      "text/plain": [
       "                             BARCODE_ID  \\\n",
       "0                         nb-seq1869996   \n",
       "1                         nb-seq1346423   \n",
       "2                          nb-seq519434   \n",
       "3                         nb-seq5523087   \n",
       "4                          nb-seq657033   \n",
       "...                                 ...   \n",
       "1577515  nb-seq1206525_probe-seq3842819   \n",
       "1577516  nb-seq1206525_probe-seq2453994   \n",
       "1577517  nb-seq1206525_probe-seq1726065   \n",
       "1577518   nb-seq1206525_probe-seq569455   \n",
       "1577519  nb-seq1206525_probe-seq3988123   \n",
       "\n",
       "                                        BARCODE_SEQ  COMPLEXITY BARCODE_TYPE  \n",
       "0        GCTCCGAGTACAATGCTCCGAGTAGTATGCTCCGAGTAGCAT    0.025029     NANOBODY  \n",
       "1        TCTAGGACAATCGCTCTAGGAGTATCGCTCTAGGAGCATCGC    0.047809     NANOBODY  \n",
       "2        TACGGCACCGATTGTACGGCACCAATTGTACGGCACGTATTG    0.044414     NANOBODY  \n",
       "3        ACCAACAGGTTTGCACGTACAGGTTTGCACGCACAGGTTTGC    0.021453     NANOBODY  \n",
       "4        GCGATTGACGCCTAGCAATTGACGCCTAGGTATTGACGCCTA    0.033229     NANOBODY  \n",
       "...                                             ...         ...          ...  \n",
       "1577515  CCTGAGTCGGACTACCTGAGTGCTACGGATGCCATGCTACGG    0.218838      IMPLIED  \n",
       "1577516  ATATTAGCGCGTCAATATCAGGCTACGGATGCCATGCTACGG    0.519641      IMPLIED  \n",
       "1577517  CTCTGAGGACATTGCTCTGAGGCTACGGATGCCATGCTACGG    0.226944      IMPLIED  \n",
       "1577518  TCGCAATCGGTAGCTCGCAATGCTACGGATGCCATGCTACGG    0.208237      IMPLIED  \n",
       "1577519  AGTTGTCAGAGCTCAGTTATCGCTACGGATGCCATGCTACGG    0.456111      IMPLIED  \n",
       "\n",
       "[1577520 rows x 4 columns]"
      ]
     },
     "execution_count": 7,
     "metadata": {},
     "output_type": "execute_result"
    }
   ],
   "source": [
    "all_df"
   ]
  },
  {
   "cell_type": "code",
   "execution_count": 12,
   "id": "c17e503a-daa2-4278-8dc0-f6d6a305b79e",
   "metadata": {
    "tags": []
   },
   "outputs": [
    {
     "data": {
      "text/plain": [
       "Text(0, 0.5, 'complexity')"
      ]
     },
     "execution_count": 12,
     "metadata": {},
     "output_type": "execute_result"
    },
    {
     "data": {
      "image/png": "[encoded data removed]",
      "text/plain": [
       "<Figure size 640x480 with 1 Axes>"
      ]
     },
     "metadata": {},
     "output_type": "display_data"
    }
   ],
   "source": [
    "sns.set()\n",
    "sns.set(font_scale = 1.1)\n",
    "def label_medians(dataframe, boxplot, x, y):\n",
    "    medians = round(dataframe.groupby([x])[y].median(), 2)\n",
    "    vertical_offset = dataframe[y].median() * 0.5\n",
    "    for xtick in boxplot.get_xticks():\n",
    "        boxplot.text(xtick,medians[xtick] + vertical_offset,medians[xtick], horizontalalignment='center',size='x-small',color='w',weight='semibold')\n",
    "        \n",
    "# print(\"\\n\")\n",
    "bc_boxplot = sns.boxplot(data=all_df, x=\"BARCODE_TYPE\", y=\"COMPLEXITY\", whis=1.5)\n",
    "bc_boxplot.set_xlabel('barcode type', fontdict={'size': 12, \"weight\": \"bold\"}, labelpad=10)\n",
    "bc_boxplot.set_ylabel('complexity', fontdict={'size': 12, \"weight\": \"bold\"}, labelpad=10)\n",
    "# label_medians(all_df, bc_boxplot, \"BARCODE_TYPE\", \"COMPLEXITY\")\n",
    "\n",
    "# 0.38\n",
    "# 0.03\n",
    "# 0.03"
   ]
  },
  {
   "cell_type": "code",
   "execution_count": 24,
   "id": "0bf0683f-8452-494e-ad4d-9aa96b9408ec",
   "metadata": {},
   "outputs": [
    {
     "data": {
      "text/html": [
       "<div>\n",
       "<style scoped>\n",
       "    .dataframe tbody tr th:only-of-type {\n",
       "        vertical-align: middle;\n",
       "    }\n",
       "\n",
       "    .dataframe tbody tr th {\n",
       "        vertical-align: top;\n",
       "    }\n",
       "\n",
       "    .dataframe thead th {\n",
       "        text-align: right;\n",
       "    }\n",
       "</style>\n",
       "<table border=\"1\" class=\"dataframe\">\n",
       "  <thead>\n",
       "    <tr style=\"text-align: right;\">\n",
       "      <th></th>\n",
       "      <th>BARCODE_ID</th>\n",
       "      <th>BARCODE_SEQ</th>\n",
       "      <th>COMPLEXITY</th>\n",
       "      <th>BARCODE_TYPE</th>\n",
       "    </tr>\n",
       "  </thead>\n",
       "  <tbody>\n",
       "    <tr>\n",
       "      <th>8</th>\n",
       "      <td>nb-seq4742588</td>\n",
       "      <td>AACGTAGCTCGTACAACGTAGCTCGTAGTACGTAGCTCGTAG</td>\n",
       "      <td>0.003354</td>\n",
       "      <td>NANOBODY</td>\n",
       "    </tr>\n",
       "    <tr>\n",
       "      <th>14</th>\n",
       "      <td>nb-seq4164925</td>\n",
       "      <td>ACCTTAGGTACGCAACCTTAGGTACGGTACCTTAGGTACGGC</td>\n",
       "      <td>0.008102</td>\n",
       "      <td>NANOBODY</td>\n",
       "    </tr>\n",
       "    <tr>\n",
       "      <th>15</th>\n",
       "      <td>nb-seq865380</td>\n",
       "      <td>GATTAGATGCGCCTAATTAGATGCGCCCTATTAGATGCGCCC</td>\n",
       "      <td>0.008231</td>\n",
       "      <td>NANOBODY</td>\n",
       "    </tr>\n",
       "    <tr>\n",
       "      <th>26</th>\n",
       "      <td>nb-seq4411327</td>\n",
       "      <td>GACCGTAGTAGTCTAACCGTAGTAGTCCTACCGTAGTAGTCC</td>\n",
       "      <td>0.006329</td>\n",
       "      <td>NANOBODY</td>\n",
       "    </tr>\n",
       "    <tr>\n",
       "      <th>41</th>\n",
       "      <td>nb-seq4826295</td>\n",
       "      <td>TAACGCGTCAGTTACAACGCGTCAGTTAGTACGCGTCAGTTA</td>\n",
       "      <td>0.008369</td>\n",
       "      <td>NANOBODY</td>\n",
       "    </tr>\n",
       "    <tr>\n",
       "      <th>...</th>\n",
       "      <td>...</td>\n",
       "      <td>...</td>\n",
       "      <td>...</td>\n",
       "      <td>...</td>\n",
       "    </tr>\n",
       "    <tr>\n",
       "      <th>1063308</th>\n",
       "      <td>nb-seq2260821_probe-seq2011379</td>\n",
       "      <td>AACGTGCATCGTGCAACGTGCAACGTCATGCGTGCAACGTCA</td>\n",
       "      <td>0.009246</td>\n",
       "      <td>IMPLIED</td>\n",
       "    </tr>\n",
       "    <tr>\n",
       "      <th>1130873</th>\n",
       "      <td>nb-seq3688067_probe-seq1972195</td>\n",
       "      <td>TGCGCATCGCTAAGTGCGCATCGCTAAGTGCACTGCGCTAAG</td>\n",
       "      <td>0.004792</td>\n",
       "      <td>IMPLIED</td>\n",
       "    </tr>\n",
       "    <tr>\n",
       "      <th>1306738</th>\n",
       "      <td>nb-seq987170_probe-seq2261299</td>\n",
       "      <td>AGACGTCATCGTCGAGACGTCATCGTCGAGATGCCATCGTCG</td>\n",
       "      <td>0.003865</td>\n",
       "      <td>IMPLIED</td>\n",
       "    </tr>\n",
       "    <tr>\n",
       "      <th>1307783</th>\n",
       "      <td>nb-seq987170_probe-seq1448479</td>\n",
       "      <td>AGCATCGATCGTCGAGCATCGATCGTCGAGATGCCATCGTCG</td>\n",
       "      <td>0.006310</td>\n",
       "      <td>IMPLIED</td>\n",
       "    </tr>\n",
       "    <tr>\n",
       "      <th>1573484</th>\n",
       "      <td>nb-seq1206525_probe-seq2721403</td>\n",
       "      <td>ATGCCATATCGCGGATGCCATGCTACGGATGCCATGCTACGG</td>\n",
       "      <td>0.005945</td>\n",
       "      <td>IMPLIED</td>\n",
       "    </tr>\n",
       "  </tbody>\n",
       "</table>\n",
       "<p>1342 rows × 4 columns</p>\n",
       "</div>"
      ],
      "text/plain": [
       "                             BARCODE_ID  \\\n",
       "8                         nb-seq4742588   \n",
       "14                        nb-seq4164925   \n",
       "15                         nb-seq865380   \n",
       "26                        nb-seq4411327   \n",
       "41                        nb-seq4826295   \n",
       "...                                 ...   \n",
       "1063308  nb-seq2260821_probe-seq2011379   \n",
       "1130873  nb-seq3688067_probe-seq1972195   \n",
       "1306738   nb-seq987170_probe-seq2261299   \n",
       "1307783   nb-seq987170_probe-seq1448479   \n",
       "1573484  nb-seq1206525_probe-seq2721403   \n",
       "\n",
       "                                        BARCODE_SEQ  COMPLEXITY BARCODE_TYPE  \n",
       "8        AACGTAGCTCGTACAACGTAGCTCGTAGTACGTAGCTCGTAG    0.003354     NANOBODY  \n",
       "14       ACCTTAGGTACGCAACCTTAGGTACGGTACCTTAGGTACGGC    0.008102     NANOBODY  \n",
       "15       GATTAGATGCGCCTAATTAGATGCGCCCTATTAGATGCGCCC    0.008231     NANOBODY  \n",
       "26       GACCGTAGTAGTCTAACCGTAGTAGTCCTACCGTAGTAGTCC    0.006329     NANOBODY  \n",
       "41       TAACGCGTCAGTTACAACGCGTCAGTTAGTACGCGTCAGTTA    0.008369     NANOBODY  \n",
       "...                                             ...         ...          ...  \n",
       "1063308  AACGTGCATCGTGCAACGTGCAACGTCATGCGTGCAACGTCA    0.009246      IMPLIED  \n",
       "1130873  TGCGCATCGCTAAGTGCGCATCGCTAAGTGCACTGCGCTAAG    0.004792      IMPLIED  \n",
       "1306738  AGACGTCATCGTCGAGACGTCATCGTCGAGATGCCATCGTCG    0.003865      IMPLIED  \n",
       "1307783  AGCATCGATCGTCGAGCATCGATCGTCGAGATGCCATCGTCG    0.006310      IMPLIED  \n",
       "1573484  ATGCCATATCGCGGATGCCATGCTACGGATGCCATGCTACGG    0.005945      IMPLIED  \n",
       "\n",
       "[1342 rows x 4 columns]"
      ]
     },
     "execution_count": 24,
     "metadata": {},
     "output_type": "execute_result"
    }
   ],
   "source": [
    "all_df[all_df[\"COMPLEXITY\"] < 0.01]"
   ]
  },
  {
   "cell_type": "code",
   "execution_count": null,
   "id": "4bc507b1-1e5f-4171-bf71-3dc0b2dac23a",
   "metadata": {},
   "outputs": [],
   "source": []
  }
 ],
 "metadata": {
  "kernelspec": {
   "display_name": "Python 3 (ipykernel)",
   "language": "python",
   "name": "python3"
  },
  "language_info": {
   "codemirror_mode": {
    "name": "ipython",
    "version": 3
   },
   "file_extension": ".py",
   "mimetype": "text/x-python",
   "name": "python",
   "nbconvert_exporter": "python",
   "pygments_lexer": "ipython3",
   "version": "3.10.10"
  }
 },
 "nbformat": 4,
 "nbformat_minor": 5
}
