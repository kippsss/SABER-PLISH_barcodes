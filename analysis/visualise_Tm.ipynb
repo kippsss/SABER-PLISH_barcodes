{
 "cells": [
  {
   "cell_type": "code",
   "execution_count": 1,
   "id": "5bac9892-c8b8-416b-b6fe-e456d26a26c4",
   "metadata": {
    "tags": []
   },
   "outputs": [],
   "source": [
    "import pandas as pd\n",
    "import matplotlib.pyplot as plt\n",
    "import seaborn as sns"
   ]
  },
  {
   "cell_type": "code",
   "execution_count": 2,
   "id": "c2ea7c86-1300-4017-b1d6-a89747ec9fb1",
   "metadata": {
    "tags": []
   },
   "outputs": [],
   "source": [
    "nb_df = pd.read_csv(\"data/42mer_k14/42mer_k14_nb_final_Tm.tsv\", sep=\"\\t\")\n",
    "probe_df = pd.read_csv(\"data/42mer_k14/42mer_k14_probe_final_Tm.tsv\", sep=\"\\t\")\n",
    "implied_df = pd.read_csv(\"data/42mer_k14/42mer_k14_implied_final_Tm.tsv\", sep=\"\\t\")"
   ]
  },
  {
   "cell_type": "code",
   "execution_count": 3,
   "id": "bf5aa5a9-14fe-438f-b4fd-81a639934562",
   "metadata": {
    "tags": []
   },
   "outputs": [],
   "source": [
    "barcode_type_ls = []\n",
    "for i in range(len(nb_df)):\n",
    "    barcode_type_ls.append(\"NANOBODY\")\n",
    "nb_df = nb_df.assign(BARCODE_TYPE=barcode_type_ls)"
   ]
  },
  {
   "cell_type": "code",
   "execution_count": 4,
   "id": "1fb3a1b2-d416-436b-a698-c02d12c50fea",
   "metadata": {
    "tags": []
   },
   "outputs": [],
   "source": [
    "barcode_type_ls = []\n",
    "for i in range(len(probe_df)):\n",
    "    barcode_type_ls.append(\"ISH_PROBE\")\n",
    "probe_df = probe_df.assign(BARCODE_TYPE=barcode_type_ls)"
   ]
  },
  {
   "cell_type": "code",
   "execution_count": 5,
   "id": "36cff1ae-cca6-4af1-9cbe-5cfe60d511e6",
   "metadata": {
    "tags": []
   },
   "outputs": [],
   "source": [
    "barcode_type_ls = []\n",
    "for i in range(len(implied_df)):\n",
    "    barcode_type_ls.append(\"IMPLIED\")\n",
    "implied_df = implied_df.assign(BARCODE_TYPE=barcode_type_ls)"
   ]
  },
  {
   "cell_type": "code",
   "execution_count": 6,
   "id": "933e7a3d-a8e5-48ab-bdf8-e68c38fb4aab",
   "metadata": {
    "tags": []
   },
   "outputs": [],
   "source": [
    "all_df = pd.concat([nb_df, probe_df, implied_df], ignore_index=True)"
   ]
  },
  {
   "cell_type": "code",
   "execution_count": 7,
   "id": "617db3f2-f958-44c5-b640-702dd6f0a2b5",
   "metadata": {
    "tags": []
   },
   "outputs": [
    {
     "data": {
      "text/html": [
       "<div>\n",
       "<style scoped>\n",
       "    .dataframe tbody tr th:only-of-type {\n",
       "        vertical-align: middle;\n",
       "    }\n",
       "\n",
       "    .dataframe tbody tr th {\n",
       "        vertical-align: top;\n",
       "    }\n",
       "\n",
       "    .dataframe thead th {\n",
       "        text-align: right;\n",
       "    }\n",
       "</style>\n",
       "<table border=\"1\" class=\"dataframe\">\n",
       "  <thead>\n",
       "    <tr style=\"text-align: right;\">\n",
       "      <th></th>\n",
       "      <th>BARCODE ID</th>\n",
       "      <th>BARCODE SEQ</th>\n",
       "      <th>TM_ROUND</th>\n",
       "      <th>TM</th>\n",
       "      <th>BARCODE_TYPE</th>\n",
       "    </tr>\n",
       "  </thead>\n",
       "  <tbody>\n",
       "    <tr>\n",
       "      <th>0</th>\n",
       "      <td>nb-seq1869996</td>\n",
       "      <td>GCTCCGAGTACAATGCTCCGAGTAGTATGCTCCGAGTAGCAT</td>\n",
       "      <td>86.63</td>\n",
       "      <td>86.634214</td>\n",
       "      <td>NANOBODY</td>\n",
       "    </tr>\n",
       "    <tr>\n",
       "      <th>1</th>\n",
       "      <td>nb-seq1346423</td>\n",
       "      <td>TCTAGGACAATCGCTCTAGGAGTATCGCTCTAGGAGCATCGC</td>\n",
       "      <td>87.13</td>\n",
       "      <td>87.129289</td>\n",
       "      <td>NANOBODY</td>\n",
       "    </tr>\n",
       "    <tr>\n",
       "      <th>2</th>\n",
       "      <td>nb-seq519434</td>\n",
       "      <td>TACGGCACCGATTGTACGGCACCAATTGTACGGCACGTATTG</td>\n",
       "      <td>85.64</td>\n",
       "      <td>85.637659</td>\n",
       "      <td>NANOBODY</td>\n",
       "    </tr>\n",
       "    <tr>\n",
       "      <th>3</th>\n",
       "      <td>nb-seq5523087</td>\n",
       "      <td>ACCAACAGGTTTGCACGTACAGGTTTGCACGCACAGGTTTGC</td>\n",
       "      <td>85.79</td>\n",
       "      <td>85.786318</td>\n",
       "      <td>NANOBODY</td>\n",
       "    </tr>\n",
       "    <tr>\n",
       "      <th>4</th>\n",
       "      <td>nb-seq657033</td>\n",
       "      <td>GCGATTGACGCCTAGCAATTGACGCCTAGGTATTGACGCCTA</td>\n",
       "      <td>87.04</td>\n",
       "      <td>87.036328</td>\n",
       "      <td>NANOBODY</td>\n",
       "    </tr>\n",
       "    <tr>\n",
       "      <th>...</th>\n",
       "      <td>...</td>\n",
       "      <td>...</td>\n",
       "      <td>...</td>\n",
       "      <td>...</td>\n",
       "      <td>...</td>\n",
       "    </tr>\n",
       "    <tr>\n",
       "      <th>1577515</th>\n",
       "      <td>nb-seq1206525_probe-seq3842819</td>\n",
       "      <td>CCTGAGTCGGACTACCTGAGTGCTACGGATGCCATGCTACGG</td>\n",
       "      <td>87.93</td>\n",
       "      <td>87.926099</td>\n",
       "      <td>IMPLIED</td>\n",
       "    </tr>\n",
       "    <tr>\n",
       "      <th>1577516</th>\n",
       "      <td>nb-seq1206525_probe-seq2453994</td>\n",
       "      <td>ATATTAGCGCGTCAATATCAGGCTACGGATGCCATGCTACGG</td>\n",
       "      <td>86.54</td>\n",
       "      <td>86.535595</td>\n",
       "      <td>IMPLIED</td>\n",
       "    </tr>\n",
       "    <tr>\n",
       "      <th>1577517</th>\n",
       "      <td>nb-seq1206525_probe-seq1726065</td>\n",
       "      <td>CTCTGAGGACATTGCTCTGAGGCTACGGATGCCATGCTACGG</td>\n",
       "      <td>88.21</td>\n",
       "      <td>88.210071</td>\n",
       "      <td>IMPLIED</td>\n",
       "    </tr>\n",
       "    <tr>\n",
       "      <th>1577518</th>\n",
       "      <td>nb-seq1206525_probe-seq569455</td>\n",
       "      <td>TCGCAATCGGTAGCTCGCAATGCTACGGATGCCATGCTACGG</td>\n",
       "      <td>89.68</td>\n",
       "      <td>89.679329</td>\n",
       "      <td>IMPLIED</td>\n",
       "    </tr>\n",
       "    <tr>\n",
       "      <th>1577519</th>\n",
       "      <td>nb-seq1206525_probe-seq3988123</td>\n",
       "      <td>AGTTGTCAGAGCTCAGTTATCGCTACGGATGCCATGCTACGG</td>\n",
       "      <td>87.03</td>\n",
       "      <td>87.032335</td>\n",
       "      <td>IMPLIED</td>\n",
       "    </tr>\n",
       "  </tbody>\n",
       "</table>\n",
       "<p>1577520 rows × 5 columns</p>\n",
       "</div>"
      ],
      "text/plain": [
       "                             BARCODE ID  \\\n",
       "0                         nb-seq1869996   \n",
       "1                         nb-seq1346423   \n",
       "2                          nb-seq519434   \n",
       "3                         nb-seq5523087   \n",
       "4                          nb-seq657033   \n",
       "...                                 ...   \n",
       "1577515  nb-seq1206525_probe-seq3842819   \n",
       "1577516  nb-seq1206525_probe-seq2453994   \n",
       "1577517  nb-seq1206525_probe-seq1726065   \n",
       "1577518   nb-seq1206525_probe-seq569455   \n",
       "1577519  nb-seq1206525_probe-seq3988123   \n",
       "\n",
       "                                        BARCODE SEQ  TM_ROUND         TM  \\\n",
       "0        GCTCCGAGTACAATGCTCCGAGTAGTATGCTCCGAGTAGCAT     86.63  86.634214   \n",
       "1        TCTAGGACAATCGCTCTAGGAGTATCGCTCTAGGAGCATCGC     87.13  87.129289   \n",
       "2        TACGGCACCGATTGTACGGCACCAATTGTACGGCACGTATTG     85.64  85.637659   \n",
       "3        ACCAACAGGTTTGCACGTACAGGTTTGCACGCACAGGTTTGC     85.79  85.786318   \n",
       "4        GCGATTGACGCCTAGCAATTGACGCCTAGGTATTGACGCCTA     87.04  87.036328   \n",
       "...                                             ...       ...        ...   \n",
       "1577515  CCTGAGTCGGACTACCTGAGTGCTACGGATGCCATGCTACGG     87.93  87.926099   \n",
       "1577516  ATATTAGCGCGTCAATATCAGGCTACGGATGCCATGCTACGG     86.54  86.535595   \n",
       "1577517  CTCTGAGGACATTGCTCTGAGGCTACGGATGCCATGCTACGG     88.21  88.210071   \n",
       "1577518  TCGCAATCGGTAGCTCGCAATGCTACGGATGCCATGCTACGG     89.68  89.679329   \n",
       "1577519  AGTTGTCAGAGCTCAGTTATCGCTACGGATGCCATGCTACGG     87.03  87.032335   \n",
       "\n",
       "        BARCODE_TYPE  \n",
       "0           NANOBODY  \n",
       "1           NANOBODY  \n",
       "2           NANOBODY  \n",
       "3           NANOBODY  \n",
       "4           NANOBODY  \n",
       "...              ...  \n",
       "1577515      IMPLIED  \n",
       "1577516      IMPLIED  \n",
       "1577517      IMPLIED  \n",
       "1577518      IMPLIED  \n",
       "1577519      IMPLIED  \n",
       "\n",
       "[1577520 rows x 5 columns]"
      ]
     },
     "execution_count": 7,
     "metadata": {},
     "output_type": "execute_result"
    }
   ],
   "source": [
    "all_df"
   ]
  },
  {
   "cell_type": "code",
   "execution_count": 16,
   "id": "c17e503a-daa2-4278-8dc0-f6d6a305b79e",
   "metadata": {
    "tags": []
   },
   "outputs": [
    {
     "data": {
      "text/plain": [
       "Text(0, 0.5, 'melting temperature (Tm)')"
      ]
     },
     "execution_count": 16,
     "metadata": {},
     "output_type": "execute_result"
    },
    {
     "data": {
      "image/png": "[encoded data removed]",
      "text/plain": [
       "<Figure size 640x480 with 1 Axes>"
      ]
     },
     "metadata": {},
     "output_type": "display_data"
    }
   ],
   "source": [
    "sns.set()\n",
    "sns.set(font_scale = 1.1)\n",
    "def label_medians(dataframe, boxplot, x, y):\n",
    "    medians = round(dataframe.groupby([x])[y].median(), 2)\n",
    "    vertical_offset = dataframe[y].median() * 0.001\n",
    "    for xtick in boxplot.get_xticks():\n",
    "        boxplot.text(xtick,medians[xtick] + vertical_offset,medians[xtick], horizontalalignment='center',size='x-small',color='w',weight='semibold')\n",
    "        \n",
    "# print(\"\\n\")\n",
    "bc_boxplot = sns.boxplot(data=all_df, x=\"BARCODE_TYPE\", y=\"TM\", whis=1.5)\n",
    "bc_boxplot.set_xlabel('barcode type', fontdict={'size': 12, \"weight\": \"bold\"}, labelpad=10)\n",
    "bc_boxplot.set_ylabel('melting temperature (Tm)', fontdict={'size': 12, \"weight\": \"bold\"}, labelpad=10)\n",
    "# label_medians(all_df, bc_boxplot, \"BARCODE_TYPE\", \"TM\")"
   ]
  },
  {
   "cell_type": "code",
   "execution_count": null,
   "id": "0bf0683f-8452-494e-ad4d-9aa96b9408ec",
   "metadata": {},
   "outputs": [],
   "source": []
  }
 ],
 "metadata": {
  "kernelspec": {
   "display_name": "Python 3 (ipykernel)",
   "language": "python",
   "name": "python3"
  },
  "language_info": {
   "codemirror_mode": {
    "name": "ipython",
    "version": 3
   },
   "file_extension": ".py",
   "mimetype": "text/x-python",
   "name": "python",
   "nbconvert_exporter": "python",
   "pygments_lexer": "ipython3",
   "version": "3.10.10"
  }
 },
 "nbformat": 4,
 "nbformat_minor": 5
}
